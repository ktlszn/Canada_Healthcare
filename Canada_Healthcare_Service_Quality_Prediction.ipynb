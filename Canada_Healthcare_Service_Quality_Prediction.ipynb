{
  "nbformat": 4,
  "nbformat_minor": 0,
  "metadata": {
    "colab": {
      "name": "Canada_Healthcare_Service_Quality_Prediction.ipynb",
      "provenance": [],
      "collapsed_sections": []
    },
    "kernelspec": {
      "name": "ir",
      "display_name": "R"
    },
    "language_info": {
      "name": "R"
    }
  },
  "cells": [
    {
      "cell_type": "markdown",
      "source": [
        "# Canadian Healthcare Service Quality Analysis\n",
        "\n"
      ],
      "metadata": {
        "id": "fz2c7vistG8w"
      }
    },
    {
      "cell_type": "markdown",
      "source": [
        "## Monetary and Population Data of Canada"
      ],
      "metadata": {
        "id": "_acfMeJwo9na"
      }
    },
    {
      "cell_type": "markdown",
      "source": [
        "### Installing Packages"
      ],
      "metadata": {
        "id": "yG0t5ll0ssEq"
      }
    },
    {
      "cell_type": "code",
      "execution_count": 25,
      "metadata": {
        "id": "M6S9-T4ZojbD"
      },
      "outputs": [],
      "source": [
        "install.packages(\"openxlsx\", lib = \"/usr/local/lib/R/site-library\")\n",
        "install.packages(\"data.table\", lib = \"/usr/local/lib/R/site-library\")\n",
        "install.packages(\"plyr\", lib = \"/usr/local/lib/R/site-library\")\n",
        "\n",
        "library(openxlsx)\n",
        "library(data.table)\n",
        "library(plyr)"
      ]
    },
    {
      "cell_type": "markdown",
      "source": [
        "### Gathering and Cleaning Data"
      ],
      "metadata": {
        "id": "HaMmrD0hruSv"
      }
    },
    {
      "cell_type": "code",
      "source": [
        "GDP_Province <- read.xlsx(\"/content/Appendices A-D-2021-en.xlsx\", sheet = \"A — GDP\", startRow = 5, rowNames = FALSE, rows = 5:50)\n",
        "GDP_Province[GDP_Province == \"—\"] <- NA \n",
        "GDP_Province1 <- sapply(GDP_Province, as.numeric)\n",
        "GDP_Province1[,2:15] <- GDP_Province1[,2:15]*1000000\n",
        "GDP_Province1 <- as.data.frame(GDP_Province1)\n",
        "GDP_Province1$Year[is.na(GDP_Province1$Year ==TRUE)] <- 2019"
      ],
      "metadata": {
        "id": "eV1aivYCo_76"
      },
      "execution_count": 3,
      "outputs": []
    },
    {
      "cell_type": "code",
      "source": [
        "Can_Population <- read.xlsx(\"/content/Appendices A-D-2021-en.xlsx\", sheet = \"D — Pop\", startRow = 5, rowNames = FALSE, rows = 5:50)\n",
        "Can_Population[Can_Population == \"—\"] <- NA \n",
        "Can_Population1 <- sapply(Can_Population, as.numeric)\n",
        "Can_Population1[,2:15] <- Can_Population1[,2:15]*1000\n",
        "Can_Population1 <- as.data.frame(Can_Population1)\n",
        "Can_Population1$Year[is.na(Can_Population1$Year ==TRUE)] <- 2019"
      ],
      "metadata": {
        "colab": {
          "base_uri": "https://localhost:8080/"
        },
        "id": "oT96rSSrpEOX",
        "outputId": "cd22e8bb-cd16-4291-a3b0-95f6a9ed80cc"
      },
      "execution_count": 4,
      "outputs": [
        {
          "output_type": "stream",
          "name": "stderr",
          "text": [
            "Warning message in lapply(X = X, FUN = FUN, ...):\n",
            "“NAs introduced by coercion”\n"
          ]
        }
      ]
    },
    {
      "cell_type": "code",
      "source": [
        "GDP_Per_Person <- Can_Population1\n",
        "GDP_Per_Person <- GDP_Per_Person-GDP_Per_Person\n",
        "GDP_Per_Person <- GDP_Province1/Can_Population1\n",
        "GDP_Per_Person$Year <- GDP_Province1$Year"
      ],
      "metadata": {
        "id": "wlGkUiVwpHsV"
      },
      "execution_count": 5,
      "outputs": []
    },
    {
      "cell_type": "markdown",
      "source": [
        "### Wide data to Long Data"
      ],
      "metadata": {
        "id": "1O4wOQAGpLOs"
      }
    },
    {
      "cell_type": "code",
      "source": [
        "GDP_Per_Person_L <- melt(setDT(GDP_Per_Person), id.vars = c(\"Year\"), variable.name = \"Province\")\n",
        "colnames(GDP_Per_Person_L)[3] <- \"GDP_Per_Person\"\n",
        "\n",
        "Can_Population1_L <- melt(setDT(Can_Population1), id.vars = c(\"Year\"), variable.name = \"Province\")\n",
        "colnames(Can_Population1_L)[3] <- \"Population\"\n",
        "\n",
        "GDP_Province1_L <- melt(setDT(GDP_Province1), id.vars = c(\"Year\"), variable.name = \"Province\")\n",
        "colnames(GDP_Province1_L)[3] <- \"GDP\""
      ],
      "metadata": {
        "id": "XqmIkU_4pKyn"
      },
      "execution_count": 6,
      "outputs": []
    },
    {
      "cell_type": "markdown",
      "source": [
        "### Merge & Join Datasets"
      ],
      "metadata": {
        "id": "RQ6vYnfqpWTx"
      }
    },
    {
      "cell_type": "code",
      "source": [
        "df <- merge(merge(GDP_Per_Person_L, Can_Population1_L, by= c(\"Year\", \"Province\")),\n",
        "            GDP_Province1_L, by= c(\"Year\", \"Province\")\n",
        "            )\n",
        "df$Province <- as.factor(df$Province)"
      ],
      "metadata": {
        "id": "p75yFOa8pY_p"
      },
      "execution_count": 7,
      "outputs": []
    },
    {
      "cell_type": "code",
      "source": [
        "keeprow <- c(\"Year\", \"Total\")\n",
        "N.L. <- read.xlsx(\"/content/Series D1-2021-en.xlsx\", sheet = \"N.L.\", startRow = 5, rowNames = FALSE, rows = 5:50)\n",
        "N.L. <- N.L.[,keeprow]\n",
        "colnames(N.L.)[2] <- \"Health_Expenditure\"\n",
        "N.L.$Province <- \"N.L.\"\n",
        "\n",
        "P.E.I. <- read.xlsx(\"/content/Series D1-2021-en.xlsx\", sheet = \"P.E.I.\", startRow = 5, rowNames = FALSE, rows = 5:50)\n",
        "P.E.I. <- P.E.I.[,keeprow]\n",
        "colnames(P.E.I.)[2] <- \"Health_Expenditure\"\n",
        "P.E.I.$Province <- \"P.E.I.\"\n",
        "\n",
        "N.S. <- read.xlsx(\"/content/Series D1-2021-en.xlsx\", sheet = \"N.S.\", startRow = 5, rowNames = FALSE, rows = 5:50)\n",
        "N.S. <- N.S.[,keeprow]\n",
        "colnames(N.S.)[2] <- \"Health_Expenditure\"\n",
        "N.S.$Province <- \"N.S.\"\n",
        "\n",
        "N.B. <- read.xlsx(\"/content/Series D1-2021-en.xlsx\", sheet = \"N.B.\", startRow = 5, rowNames = FALSE, rows = 5:50)\n",
        "N.B. <- N.B.[,keeprow]\n",
        "colnames(N.B.)[2] <- \"Health_Expenditure\"\n",
        "N.B.$Province <- \"N.B.\"\n",
        "\n",
        "Que. <- read.xlsx(\"/content/Series D1-2021-en.xlsx\", sheet = \"Que.\", startRow = 5, rowNames = FALSE, rows = 5:50)\n",
        "Que. <- Que.[,keeprow]\n",
        "colnames(Que.)[2] <- \"Health_Expenditure\"\n",
        "Que.$Province <- \"Que.\"\n",
        "\n",
        "Ont. <- read.xlsx(\"/content/Series D1-2021-en.xlsx\", sheet = \"Ont.\", startRow = 5, rowNames = FALSE, rows = 5:50)\n",
        "Ont. <- Ont.[,keeprow]\n",
        "colnames(Ont.)[2] <- \"Health_Expenditure\"\n",
        "Ont.$Province <- \"Ont.\"\n",
        "\n",
        "Man. <- read.xlsx(\"/content/Series D1-2021-en.xlsx\", sheet = \"Man.\", startRow = 5, rowNames = FALSE, rows = 5:50)\n",
        "Man. <- Man.[,keeprow]\n",
        "colnames(Man.)[2] <- \"Health_Expenditure\"\n",
        "Man.$Province <- \"Man.\"\n",
        "\n",
        "Sask. <- read.xlsx(\"/content/Series D1-2021-en.xlsx\", sheet = \"Sask.\", startRow = 5, rowNames = FALSE, rows = 5:50)\n",
        "Sask. <- Sask.[,keeprow]\n",
        "colnames(Sask.)[2] <- \"Health_Expenditure\"\n",
        "Sask.$Province <- \"Sask.\"\n",
        "\n",
        "Alta. <- read.xlsx(\"/content/Series D1-2021-en.xlsx\", sheet = \"Alta.\", startRow = 5, rowNames = FALSE, rows = 5:50)\n",
        "Alta. <- Alta.[,keeprow]\n",
        "colnames(Alta.)[2] <- \"Health_Expenditure\"\n",
        "Alta.$Province <- \"Alta.\"\n",
        "\n",
        "B.C. <- read.xlsx(\"/content/Series D1-2021-en.xlsx\", sheet = \"B.C.\", startRow = 5, rowNames = FALSE, rows = 5:50)\n",
        "B.C. <- B.C.[,keeprow]\n",
        "colnames(B.C.)[2] <- \"Health_Expenditure\"\n",
        "B.C.$Province <- \"B.C.\"\n",
        "\n",
        "Y.T. <- read.xlsx(\"/content/Series D1-2021-en.xlsx\", sheet = \"Y.T.\", startRow = 5, rowNames = FALSE, rows = 5:50)\n",
        "Y.T. <- Y.T.[,keeprow]\n",
        "colnames(Y.T.)[2] <- \"Health_Expenditure\"\n",
        "Y.T.$Province <- \"Y.T.\"\n",
        "\n",
        "N.W.T. <- read.xlsx(\"/content/Series D1-2021-en.xlsx\", sheet = \"N.W.T.\", startRow = 5, rowNames = FALSE, rows = 5:50)\n",
        "N.W.T. <- N.W.T.[,keeprow]\n",
        "colnames(N.W.T.)[2] <- \"Health_Expenditure\"\n",
        "N.W.T.$Province <- \"N.W.T.\"\n",
        "\n",
        "Nun. <- read.xlsx(\"/content/Series D1-2021-en.xlsx\", sheet = \"Nun.\", startRow = 5, rowNames = FALSE, rows = 5:50)\n",
        "Nun. <- Nun.[,keeprow]\n",
        "colnames(Nun.)[2] <- \"Health_Expenditure\"\n",
        "Nun.$Province <- \"Nun.\"\n",
        "Nun.[Nun. == \"—\"] <- as.numeric(0)"
      ],
      "metadata": {
        "id": "8kx0Zjo2qCDK"
      },
      "execution_count": 9,
      "outputs": []
    },
    {
      "cell_type": "code",
      "source": [
        "Canada <- Que.\n",
        "Canada$Province <- \"Canada\"\n",
        "Canada$Health_Expenditure <- N.L.$Health_Expenditure +P.E.I.$Health_Expenditure +N.S.$Health_Expenditure + N.B.$Health_Expenditure + Que.$Health_Expenditure + Ont.$Health_Expenditure+ Man.$Health_Expenditure+ Sask.$Health_Expenditure+ Alta.$Health_Expenditure+B.C.$Health_Expenditure+Y.T.$Health_Expenditure+N.W.T.$Health_Expenditure+as.numeric(Nun.$Health_Expenditure)"
      ],
      "metadata": {
        "id": "RUZuefGVq2rB"
      },
      "execution_count": 10,
      "outputs": []
    },
    {
      "cell_type": "code",
      "source": [
        "all_health <- rbind.fill(N.L., P.E.I., N.S., N.B., Que., Ont., Man., Sask., Alta., B.C., Y.T., N.W.T., Nun.,Canada)\n",
        "all_health$Health_Expenditure <- as.numeric(all_health$Health_Expenditure)\n",
        "all_health$Year <- as.numeric(all_health$Year)\n",
        "all_health[,2] <- all_health[,2]*1000000\n",
        "all_health$Year[is.na(all_health$Year ==TRUE)] <- 2019\n",
        "\n",
        "str(all_health)"
      ],
      "metadata": {
        "colab": {
          "base_uri": "https://localhost:8080/"
        },
        "id": "ZvODP8i6q5vo",
        "outputId": "41956455-68f9-42e8-de51-0e99ce84ebe7"
      },
      "execution_count": 11,
      "outputs": [
        {
          "output_type": "stream",
          "name": "stdout",
          "text": [
            "'data.frame':\t630 obs. of  3 variables:\n",
            " $ Year              : num  1975 1976 1977 1978 1979 ...\n",
            " $ Health_Expenditure: num  2.64e+08 3.13e+08 3.63e+08 4.13e+08 4.73e+08 ...\n",
            " $ Province          : chr  \"N.L.\" \"N.L.\" \"N.L.\" \"N.L.\" ...\n"
          ]
        }
      ]
    },
    {
      "cell_type": "code",
      "source": [
        "Monetary_Data <- merge(df, all_health, by= c(\"Year\", \"Province\"))\n",
        "Monetary_Data[Monetary_Data == 0] <- NA  \n",
        "Monetary_Data <- as.data.frame(Monetary_Data) \n",
        "str(Monetary_Data)"
      ],
      "metadata": {
        "colab": {
          "base_uri": "https://localhost:8080/"
        },
        "id": "K2AttdrMq-xo",
        "outputId": "e904c6f7-2ff7-4535-89d8-9298be4692cc"
      },
      "execution_count": 12,
      "outputs": [
        {
          "output_type": "stream",
          "name": "stdout",
          "text": [
            "'data.frame':\t630 obs. of  6 variables:\n",
            " $ Year              : num  1975 1975 1975 1975 1975 ...\n",
            " $ Province          : chr  \"Alta.\" \"B.C.\" \"Canada\" \"Man.\" ...\n",
            " $ GDP_Per_Person    : num  NA NA 7514 NA NA ...\n",
            " $ Population        : num  1808689 2499564 23143275 1024975 677008 ...\n",
            " $ GDP               : num  NA NA 1.74e+11 NA NA ...\n",
            " $ Health_Expenditure: num  9.92e+08 1.38e+09 1.22e+10 5.46e+08 2.77e+08 ...\n"
          ]
        }
      ]
    },
    {
      "cell_type": "markdown",
      "source": [
        "### Renaming variables for presentation"
      ],
      "metadata": {
        "id": "-GVHd-t1sN3Q"
      }
    },
    {
      "cell_type": "code",
      "source": [
        "Monetary_Data$Province[Monetary_Data$Province == \"Alta.\"] <- \"Alberta\"\n",
        "Monetary_Data$Province[Monetary_Data$Province == \"B.C.\"] <- \"British Columbia\"\n",
        "Monetary_Data$Province[Monetary_Data$Province == \"Man.\"] <- \"Manitoba\"\n",
        "Monetary_Data$Province[Monetary_Data$Province == \"N.B.\"] <- \"New Brunswick\"\n",
        "Monetary_Data$Province[Monetary_Data$Province == \"N.L.\"] <- \"Newfoundland and Labrador\"\n",
        "Monetary_Data$Province[Monetary_Data$Province == \"N.S.\"] <- \"Nova Scotia\"\n",
        "Monetary_Data$Province[Monetary_Data$Province == \"N.W.T.\"] <- \"Northwest Territories\"\n",
        "Monetary_Data$Province[Monetary_Data$Province == \"Nun.\"] <- \"Nunavut\"\n",
        "Monetary_Data$Province[Monetary_Data$Province == \"Ont.\"] <- \"Ontario\"\n",
        "Monetary_Data$Province[Monetary_Data$Province == \"P.E.I.\"] <- \"Prince Edward Island\"\n",
        "Monetary_Data$Province[Monetary_Data$Province == \"Que.\"] <- \"Quebec\"\n",
        "Monetary_Data$Province[Monetary_Data$Province == \"Sask.\"] <- \"Saskatchewan\"\n",
        "Monetary_Data$Province[Monetary_Data$Province == \"Y.T.\"] <- \"Yukon\""
      ],
      "metadata": {
        "id": "3xDLPJV0rGIZ"
      },
      "execution_count": 13,
      "outputs": []
    },
    {
      "cell_type": "markdown",
      "source": [
        "## Healthcare Service Wait Times Data"
      ],
      "metadata": {
        "id": "WqBklTa3tU2H"
      }
    },
    {
      "cell_type": "markdown",
      "source": [
        "### Download Wait Times Data"
      ],
      "metadata": {
        "id": "zetF5IvntxA0"
      }
    },
    {
      "cell_type": "code",
      "source": [
        "wait_times <- read.xlsx(\"https://www.cihi.ca/sites/default/files/document/wait-times-priority-procedures-in-canada-data-tables-en.xlsx\", sheet = \"Wait times 2008 to 2020\", startRow = 3, rowNames = FALSE, rows = 3:10887)"
      ],
      "metadata": {
        "id": "UOkROFwStlNM"
      },
      "execution_count": 14,
      "outputs": []
    },
    {
      "cell_type": "markdown",
      "source": [
        "### Data Cleaning"
      ],
      "metadata": {
        "id": "Qw3kqj2Ht0n_"
      }
    },
    {
      "cell_type": "code",
      "source": [
        "wait_times <- wait_times[ -c(1, 3, 7, 9) ]\n",
        "wait_times[wait_times == \"n/a\"] <- NA\n",
        "wait_times$Indicator.result <- as.numeric(wait_times$Indicator.result)\n",
        "wait_times <- wait_times[wait_times$Metric == \"% meeting benchmark\",]\n",
        "colnames(wait_times)[5] <- \"Benchmark_Percentage\"\n",
        "wait_times <- wait_times[ -c(3) ]\n",
        "colnames(wait_times)[3] <- \"Year\"\n",
        "colnames(wait_times)[1] <- \"Province\"\n",
        "str(wait_times)"
      ],
      "metadata": {
        "colab": {
          "base_uri": "https://localhost:8080/"
        },
        "id": "3vJfBxcftv6q",
        "outputId": "71caea26-e190-4ee1-b52d-4518bdd41399"
      },
      "execution_count": 15,
      "outputs": [
        {
          "output_type": "stream",
          "name": "stdout",
          "text": [
            "'data.frame':\t1896 obs. of  4 variables:\n",
            " $ Province            : chr  \"Canada\" \"Canada\" \"Canada\" \"Canada\" ...\n",
            " $ Indicator           : chr  \"Hip Replacement\" \"Knee Replacement\" \"Radiation Therapy\" \"Hip Fracture Repair\" ...\n",
            " $ Year                : num  2008 2008 2008 2008 2008 ...\n",
            " $ Benchmark_Percentage: num  NA NA NA NA NA NA 99 77 72 NA ...\n"
          ]
        }
      ]
    },
    {
      "cell_type": "markdown",
      "source": [
        "## Creating Logistic Regression Model for Good Quality Service"
      ],
      "metadata": {
        "id": "IDfpmHMCt7kV"
      }
    },
    {
      "cell_type": "code",
      "source": [
        "all_data <- merge(x= wait_times, y= Monetary_Data, by = c(\"Province\", \"Year\"), all.x = TRUE)\n",
        "all_data <- all_data[all_data$Province!= \"Canada\",]\n",
        "all_data <- all_data[all_data$Year!= 2020,]\n",
        "str(all_data)"
      ],
      "metadata": {
        "colab": {
          "base_uri": "https://localhost:8080/"
        },
        "id": "U6jm241ruThD",
        "outputId": "778403c2-d6c9-4882-e526-f5443c994ad1"
      },
      "execution_count": 16,
      "outputs": [
        {
          "output_type": "stream",
          "name": "stdout",
          "text": [
            "'data.frame':\t1612 obs. of  8 variables:\n",
            " $ Province            : chr  \"Alberta\" \"Alberta\" \"Alberta\" \"Alberta\" ...\n",
            " $ Year                : num  2008 2008 2008 2008 2008 ...\n",
            " $ Indicator           : chr  \"Hip Fracture Repair/Emergency and Inpatient\" \"Knee Replacement\" \"Hip Fracture Repair\" \"CABG\" ...\n",
            " $ Benchmark_Percentage: num  NA 72 NA 99 71 NA 77 93 74 61 ...\n",
            " $ GDP_Per_Person      : num  82381 82381 82381 82381 82381 ...\n",
            " $ Population          : num  3595856 3595856 3595856 3595856 3595856 ...\n",
            " $ GDP                 : num  2.96e+11 2.96e+11 2.96e+11 2.96e+11 2.96e+11 ...\n",
            " $ Health_Expenditure  : num  2.04e+10 2.04e+10 2.04e+10 2.04e+10 2.04e+10 ...\n"
          ]
        }
      ]
    },
    {
      "cell_type": "code",
      "source": [
        "sum(is.na(all_data$Benchmark_Percentage))\n",
        "median(all_data$Benchmark_Percentage, na.rm = TRUE)"
      ],
      "metadata": {
        "colab": {
          "base_uri": "https://localhost:8080/",
          "height": 52
        },
        "id": "J70235Ro2HWa",
        "outputId": "52b9c0f6-394e-4f8a-c3c9-e2c8b34d358c"
      },
      "execution_count": 17,
      "outputs": [
        {
          "output_type": "display_data",
          "data": {
            "text/html": [
              "287"
            ],
            "text/markdown": "287",
            "text/latex": "287",
            "text/plain": [
              "[1] 287"
            ]
          },
          "metadata": {}
        },
        {
          "output_type": "display_data",
          "data": {
            "text/html": [
              "80"
            ],
            "text/markdown": "80",
            "text/latex": "80",
            "text/plain": [
              "[1] 80"
            ]
          },
          "metadata": {}
        }
      ]
    },
    {
      "cell_type": "code",
      "source": [
        "all_data$Benchmark_Percentage[is.na(all_data$Benchmark_Percentage)] <- median(all_data$Benchmark_Percentage, na.rm = TRUE)"
      ],
      "metadata": {
        "id": "PiHrEv7G2K0G"
      },
      "execution_count": 18,
      "outputs": []
    },
    {
      "cell_type": "code",
      "source": [
        "all_data$Benchmark_Percentage[all_data$Benchmark_Percentage < 80] <- 0\n",
        "all_data$Benchmark_Percentage[all_data$Benchmark_Percentage >= 80] <- 1"
      ],
      "metadata": {
        "id": "RZ5PxDw72MKT"
      },
      "execution_count": 19,
      "outputs": []
    },
    {
      "cell_type": "code",
      "source": [
        "all_data$Province <- as.factor(all_data$Province)\n",
        "all_data$Indicator <- as.factor(all_data$Indicator)\n",
        "all_data$Year <- as.factor(all_data$Year)\n",
        "str(all_data)"
      ],
      "metadata": {
        "colab": {
          "base_uri": "https://localhost:8080/"
        },
        "id": "wQWSQzw_2Sg8",
        "outputId": "5c1769dc-2dac-4609-9cf3-18598d728825"
      },
      "execution_count": 20,
      "outputs": [
        {
          "output_type": "stream",
          "name": "stdout",
          "text": [
            "'data.frame':\t1612 obs. of  8 variables:\n",
            " $ Province            : Factor w/ 10 levels \"Alberta\",\"British Columbia\",..: 1 1 1 1 1 1 1 1 1 1 ...\n",
            " $ Year                : Factor w/ 12 levels \"2008\",\"2009\",..: 1 1 1 1 1 1 1 2 2 2 ...\n",
            " $ Indicator           : Factor w/ 7 levels \"CABG\",\"Cataract Surgery\",..: 4 6 3 1 2 7 5 1 7 2 ...\n",
            " $ Benchmark_Percentage: num  1 0 1 1 0 1 0 1 0 0 ...\n",
            " $ GDP_Per_Person      : num  82381 82381 82381 82381 82381 ...\n",
            " $ Population          : num  3595856 3595856 3595856 3595856 3595856 ...\n",
            " $ GDP                 : num  2.96e+11 2.96e+11 2.96e+11 2.96e+11 2.96e+11 ...\n",
            " $ Health_Expenditure  : num  2.04e+10 2.04e+10 2.04e+10 2.04e+10 2.04e+10 ...\n"
          ]
        }
      ]
    },
    {
      "cell_type": "markdown",
      "source": [
        "### Split Train and Test Data"
      ],
      "metadata": {
        "id": "-NYo_-Fsy34a"
      }
    },
    {
      "cell_type": "code",
      "source": [
        "set.seed(73)\n",
        "dt = sort(sample(nrow(all_data), nrow(all_data)*.7))\n",
        "train<-all_data[dt,]\n",
        "test<-all_data[-dt,]"
      ],
      "metadata": {
        "id": "tAGeQowHy2tV"
      },
      "execution_count": 21,
      "outputs": []
    },
    {
      "cell_type": "markdown",
      "source": [
        "### Training our model"
      ],
      "metadata": {
        "id": "dfEohinx44Um"
      }
    },
    {
      "cell_type": "code",
      "source": [
        "model <- glm(Benchmark_Percentage ~ ., data = train, family=binomial)"
      ],
      "metadata": {
        "id": "Bc0dxmiby__t"
      },
      "execution_count": 22,
      "outputs": []
    },
    {
      "cell_type": "code",
      "source": [
        "fit <- predict(model, newdata = test, type = \"response\")\n",
        "fit <- ifelse(fit > 0.5,1,0)"
      ],
      "metadata": {
        "id": "rabJs6Pw5BwP"
      },
      "execution_count": 23,
      "outputs": []
    },
    {
      "cell_type": "markdown",
      "source": [
        "### Predicting the Accuracy of the Model"
      ],
      "metadata": {
        "id": "cjWaAnqI5HDm"
      }
    },
    {
      "cell_type": "code",
      "source": [
        "misClasificError <- mean(fit == test$Benchmark_Percentage)\n",
        "print(paste('Accuracy:',misClasificError))"
      ],
      "metadata": {
        "colab": {
          "base_uri": "https://localhost:8080/"
        },
        "id": "sd3h1LP75Ere",
        "outputId": "c6ce0553-1036-45c9-b885-50026e5884dc"
      },
      "execution_count": 24,
      "outputs": [
        {
          "output_type": "stream",
          "name": "stdout",
          "text": [
            "[1] \"Accuracy: 0.805785123966942\"\n"
          ]
        }
      ]
    }
  ]
}